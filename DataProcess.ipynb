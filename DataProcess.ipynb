{
 "cells": [
  {
   "cell_type": "code",
   "id": "initial_id",
   "metadata": {
    "collapsed": true
   },
   "source": [
    "import numpy as np\n",
    "import pandas as pd\n",
    "from sklearn.preprocessing import StandardScaler\n",
    "import torch\n",
    "from torch.utils.data import TensorDataset, DataLoader\n"
   ],
   "outputs": [],
   "execution_count": null
  },
  {
   "metadata": {},
   "cell_type": "code",
   "source": [
    "# 加载数据\n",
    "X_train = np.loadtxt('./UCI HAR Dataset/train/X_train.txt')\n",
    "y_train = np.loadtxt('./UCI HAR Dataset/train/y_train.txt') - 1  # 标签转为0-5\n",
    "X_test = np.loadtxt('./UCI HAR Dataset/test/X_test.txt')\n",
    "y_test = np.loadtxt('./UCI HAR Dataset/test/y_test.txt') - 1"
   ],
   "id": "3d5bc868ff2e95fb",
   "outputs": [],
   "execution_count": null
  },
  {
   "metadata": {},
   "cell_type": "code",
   "source": [
    "scaler = StandardScaler()\n",
    "X_train = scaler.fit_transform(X_train)\n",
    "X_test = scaler.transform(X_test)"
   ],
   "id": "61ea3543af2ba411",
   "outputs": [],
   "execution_count": null
  },
  {
   "metadata": {},
   "cell_type": "code",
   "source": [
    "train_data = TensorDataset(torch.FloatTensor(X_train), torch.LongTensor(y_train))\n",
    "test_data = TensorDataset(torch.FloatTensor(X_test), torch.LongTensor(y_test))"
   ],
   "id": "478b96aa7d041011",
   "outputs": [],
   "execution_count": null
  },
  {
   "metadata": {},
   "cell_type": "code",
   "source": "train_data ",
   "id": "dd86731fffbd1f19",
   "outputs": [],
   "execution_count": null
  },
  {
   "metadata": {
    "ExecuteTime": {
     "end_time": "2025-04-16T13:59:01.222278Z",
     "start_time": "2025-04-16T13:59:01.175591Z"
    }
   },
   "cell_type": "code",
   "source": [
    "import torch\n",
    "print(torch.__version__)\n",
    "print(torch.cuda.is_available())"
   ],
   "id": "1ea15c4c7928292d",
   "outputs": [
    {
     "name": "stdout",
     "output_type": "stream",
     "text": [
      "2.0.1+cpu\n",
      "False\n"
     ]
    }
   ],
   "execution_count": 7
  },
  {
   "metadata": {
    "ExecuteTime": {
     "end_time": "2025-04-16T14:00:15.346542Z",
     "start_time": "2025-04-16T14:00:15.315374Z"
    }
   },
   "cell_type": "code",
   "source": [
    "import torch\n",
    "import torch.nn as nn\n",
    "\n",
    "# 假设分类任务有6个类别 (UCI HAR)\n",
    "batch_size = 64\n",
    "num_classes = 6\n",
    "\n",
    "# 模型输出 (未经Softmax)\n",
    "outputs = torch.randn(batch_size, num_classes)  # [64, 6]\n",
    "\n",
    "# 标签应为类别索引 (0到5)\n",
    "labels = torch.randint(0, num_classes, (batch_size,))  # [64]\n",
    "print(labels.shape)\n",
    "\n",
    "# 定义损失函数\n",
    "criterion = nn.CrossEntropyLoss()\n",
    "\n",
    "# 计算损失\n",
    "loss = criterion(outputs, labels)\n",
    "print(loss.item())  # 输出一个标量值"
   ],
   "id": "c47a2f5c492fb468",
   "outputs": [
    {
     "name": "stdout",
     "output_type": "stream",
     "text": [
      "torch.Size([64])\n",
      "2.4123873710632324\n"
     ]
    }
   ],
   "execution_count": 2
  },
  {
   "metadata": {},
   "cell_type": "code",
   "source": "",
   "id": "4a2a3ed9d76eed8f",
   "outputs": [],
   "execution_count": null
  }
 ],
 "metadata": {
  "kernelspec": {
   "display_name": "mm",
   "language": "python",
   "name": "mm"
  },
  "language_info": {
   "codemirror_mode": {
    "name": "ipython",
    "version": 2
   },
   "file_extension": ".py",
   "mimetype": "text/x-python",
   "name": "python",
   "nbconvert_exporter": "python",
   "pygments_lexer": "ipython2",
   "version": "2.7.6"
  }
 },
 "nbformat": 4,
 "nbformat_minor": 5
}
